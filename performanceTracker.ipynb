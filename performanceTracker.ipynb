{
 "cells": [
  {
   "cell_type": "code",
   "execution_count": 2,
   "id": "ec4875e6",
   "metadata": {},
   "outputs": [
    {
     "name": "stdout",
     "output_type": "stream",
     "text": [
      "Takes <30s. However, it might take >1 mins or so if network is busy...\n",
      "Matlab engine is set correctly.\n"
     ]
    }
   ],
   "source": [
    "#1> load the environment + define the path\n",
    "%reload_ext autoreload\n",
    "%autoreload 2\n",
    "\n",
    "#make data file\n",
    "print( \"Takes <30s. However, it might take >1 mins or so if network is busy...\")\n",
    "import glob\n",
    "import os, glob, shutil\n",
    "import pandas as pd\n",
    "from datetime import datetime\n",
    "import numpy as np\n",
    "import main_funcs as mfun\n",
    "import utils_funcs as utils # utils is from Vape - catcher file: \n",
    "import matplotlib.pyplot as plt\n",
    "import pickle\n",
    "import sys\n",
    "from LakLabAnalysis.Utility.extract_paq_events import extract_paq_data_frame\n",
    "from tifffile import TiffFile, imread, imwrite\n",
    "import imageio.v2 as imageio\n",
    "\n",
    "# set matlab API\n",
    "import matlab.engine\n",
    "eng = matlab.engine.start_matlab()\n",
    "print('Matlab engine is set correctly.')\n",
    "\n",
    "\n"
   ]
  },
  {
   "cell_type": "code",
   "execution_count": 4,
   "id": "b078cd82",
   "metadata": {},
   "outputs": [
    {
     "name": "stdout",
     "output_type": "stream",
     "text": [
      "Env: decMaking310\n",
      "Computer: Huriye Windows\n",
      "Total Session before exclsuion criterias: 4\n",
      "Total Session after exclsuion criterias: 4\n",
      "  animalID recordingDate recordingID         sessionName   twoP                 path imagingTiffFileNames                                 sessionNameWithPath           blockName          experimentDefinition   duration    rigName  performance                      stimType                                                                    analysispathname           filepathname\n",
      "0    HA011    2025-08-28           1  2025-08-28_1_HA011  False  Z:\\HA011\\2025-08-28                 None  Z:\\HA011\\2025-08-28\\1\\2025-08-28_1_HA011_Block.mat  2025-08-28_1_HA011  Grating2AFC_variableStimSize  37.824350  win-al027    70.000000  Grating2AFC_variableStimSize  C:\\Users\\Huriye\\Documents\\code\\sideBiasLateralisation\\analysis\\2025-08-28_HA011_1\\  Z:\\HA011\\2025-08-28\\1\n",
      "1    HA011    2025-08-29           1  2025-08-29_1_HA011  False  Z:\\HA011\\2025-08-29                 None  Z:\\HA011\\2025-08-29\\1\\2025-08-29_1_HA011_Block.mat  2025-08-29_1_HA011  Grating2AFC_variableStimSize  55.709400  win-al027    69.047619  Grating2AFC_variableStimSize  C:\\Users\\Huriye\\Documents\\code\\sideBiasLateralisation\\analysis\\2025-08-29_HA011_1\\  Z:\\HA011\\2025-08-29\\1\n",
      "2    HA011    2025-08-30           1  2025-08-30_1_HA011  False  Z:\\HA011\\2025-08-30                 None  Z:\\HA011\\2025-08-30\\1\\2025-08-30_1_HA011_Block.mat  2025-08-30_1_HA011  Grating2AFC_variableStimSize  53.919667  win-al027    66.666667  Grating2AFC_variableStimSize  C:\\Users\\Huriye\\Documents\\code\\sideBiasLateralisation\\analysis\\2025-08-30_HA011_1\\  Z:\\HA011\\2025-08-30\\1\n",
      "3    HA011    2025-08-31           1  2025-08-31_1_HA011  False  Z:\\HA011\\2025-08-31                 None  Z:\\HA011\\2025-08-31\\1\\2025-08-31_1_HA011_Block.mat  2025-08-31_1_HA011  Grating2AFC_variableStimSize  43.490950  win-al027    60.975610  Grating2AFC_variableStimSize  C:\\Users\\Huriye\\Documents\\code\\sideBiasLateralisation\\analysis\\2025-08-31_HA011_1\\  Z:\\HA011\\2025-08-31\\1\n"
     ]
    }
   ],
   "source": [
    "# Get the list of recordings\n",
    "animalList= ['HA011']\n",
    "info = mfun.analysis(animalList=animalList)\n",
    "# display the detected session\n",
    "print( \"Total Session before exclsuion criterias: \" +  str(info.recordingList .shape[0]))\n",
    "\n",
    "###### Lets clean the short and bad performing sessions\n",
    "# Cleaning step 1: Eliminate short sessions - exclude less than 10 mins\n",
    "info.recordingList = info.recordingList[info.recordingList['duration'] > 10] # >10 mins\n",
    "# Cleaning step 2: Eliminate bad performing sessions\n",
    "info.recordingList = info.recordingList[info.recordingList['performance'] > 60].reset_index(drop=True) # >50% performance\n",
    "\n",
    "###### Lets See all table\n",
    "# display the detected session\n",
    "print( \"Total Session after exclsuion criterias: \" +  str(info.recordingList .shape[0]))\n",
    "print(info.recordingList.to_string())"
   ]
  },
  {
   "cell_type": "code",
   "execution_count": 5,
   "id": "298ce265",
   "metadata": {},
   "outputs": [
    {
     "name": "stdout",
     "output_type": "stream",
     "text": [
      "Finished processing all sessions. Saved:C:\\Users\\Huriye\\Documents\\code\\sideBiasLateralisation\\analysis\n"
     ]
    }
   ],
   "source": [
    "# For checking performance over time\n",
    "# Lets plot sessions in animal folders - \n",
    "animalList = np.unique(info.recordingList['animalID'])\n",
    "for animal in animalList:\n",
    "    animal_sessions = info.recordingList.loc[info.recordingList['animalID'] == animal, :].reset_index(drop=True)\n",
    "    # each animal one folder\n",
    "    save_path = os.path.join(info.analysisPath, animal)\n",
    "    #create if not exist ( in one line)\n",
    "    os.makedirs(save_path, exist_ok=True) if not os.path.exists(save_path) else None\n",
    "    csv_file = os.path.join(save_path, f\"{animal}_perf.csv\")\n",
    "    if os.path.exists(csv_file):\n",
    "        pd_beh = pd.read_csv(csv_file) \n",
    "    else:\n",
    "        pd_beh = pd.DataFrame(columns=['session', 'performance', 'twoP']) \n",
    "\n",
    "    # Plot each session \n",
    "    for ind, row in animal_sessions.iterrows():\n",
    "        \n",
    "        session = row['sessionName']     # adjust column name if different\n",
    "        twoP = row['twoP']\n",
    "        save_file = os.path.join(save_path, f\"{session}_beh.png\")\n",
    "        if not os.path.exists(save_file):\n",
    "            try:\n",
    "                perf = eng.visualiseTrainingGrating2AFC(session, 'Grating2AFC_noTimeline', [], nargout=1)\n",
    "                fig = eng.gcf()\n",
    "                eng.saveas(fig, save_file, nargout=0)\n",
    "                eng.close('all', nargout=0) \n",
    "                \n",
    "            except Exception as e:\n",
    "                print(f\"{session} ---> Error in Matlab getBehaData function - maybe wrong profile?! \")\n",
    "                perf = np.nan\n",
    "\n",
    "            # append a new row to pd_beh\n",
    "            pd_beh.loc[len(pd_beh)] = {\n",
    "                \"session\": session[5:10],\n",
    "                \"twoP\": twoP,\n",
    "                \"performance\": perf\n",
    "            }\n",
    "\n",
    "            # update performance in original dataframe\n",
    "            info.recordingList.loc[\n",
    "                (info.recordingList['animalID'] == animal) & \n",
    "                (info.recordingList['sessionName'] == session),\n",
    "                'performance'\n",
    "            ] = perf\n",
    "\n",
    "    # save pd_beh\n",
    "    pd_beh.to_csv(csv_file, index=False)\n",
    "\n",
    "    # Plot summary plot session\n",
    "    perf_save_file = os.path.join(save_path, f\"0behSummary_{animal}.png\")\n",
    "    plt.plot(pd_beh['session'], pd_beh['performance'], label='Performance', color='black')\n",
    "    # Mark twoP\n",
    "    mask_twoP = pd_beh['twoP'] == True\n",
    "    plt.scatter(\n",
    "        pd_beh.loc[mask_twoP, 'session'], \n",
    "        pd_beh.loc[mask_twoP, 'performance'],\n",
    "        facecolors='none', edgecolors='red', s=50, linewidths=2, label='TwoP'\n",
    "    )\n",
    "\n",
    "    plt.title(f\"Summary Performance Plot - {animal}\")\n",
    "    plt.ylim(0, 100)  # Set y-axis limits\n",
    "    plt.axhline(y=50, color='grey', linestyle='--') #add a dash line at 50\n",
    "    plt.xlabel(\"Session\")\n",
    "    # lets rotate x labels\n",
    "    plt.xticks(rotation=60, fontsize=8)\n",
    "    plt.ylabel(\"Performance\")\n",
    "    plt.savefig(perf_save_file)\n",
    "    plt.close()\n",
    "\n",
    "\n",
    "# End of session loop\n",
    "print('Finished processing all sessions. Saved:' + info.analysisPath)"
   ]
  }
 ],
 "metadata": {
  "kernelspec": {
   "display_name": "decMaking310",
   "language": "python",
   "name": "python3"
  },
  "language_info": {
   "codemirror_mode": {
    "name": "ipython",
    "version": 3
   },
   "file_extension": ".py",
   "mimetype": "text/x-python",
   "name": "python",
   "nbconvert_exporter": "python",
   "pygments_lexer": "ipython3",
   "version": "3.10.18"
  }
 },
 "nbformat": 4,
 "nbformat_minor": 5
}
