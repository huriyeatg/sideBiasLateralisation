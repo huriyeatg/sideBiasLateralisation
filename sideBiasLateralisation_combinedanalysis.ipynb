{
 "cells": [
  {
   "cell_type": "code",
   "execution_count": null,
   "metadata": {},
   "outputs": [],
   "source": [
    "%reload_ext autoreload\n",
    "%autoreload 2\n",
    "\n",
    "#load libraries\n",
    "import glob\n",
    "import os\n",
    "import pandas as pd\n",
    "from datetime import datetime\n",
    "import numpy as np\n",
    "import main_funcs as mfun\n",
    "\n",
    "import plot_funcs as pfun\n",
    "import utils_funcs as utils # utils is from Vape - catcher file: \n",
    "import matplotlib.pyplot as plt\n",
    "import seaborn as sns\n",
    "from scipy.stats import zscore\n",
    "import pickle\n",
    "\n",
    "# Get the data info\n",
    "pfun.set_figure()\n",
    "\n",
    "# Get the data info\n",
    "infoPath = 'C:/Users/Lak Lab/Documents/Github/sideBiasLateralisation/analysis/infoForAnalysis.pkl'\n",
    "analysis_path = 'C:/Users/Lak Lab/Documents/Github/sideBiasLateralisation/analysis/'\n",
    "info = pd.read_pickle(infoPath)\n",
    "\n",
    "info.recordingList"
   ]
  },
  {
   "cell_type": "code",
   "execution_count": null,
   "metadata": {},
   "outputs": [],
   "source": [
    "# List of sessions to filter\n",
    "specific_expRefs = ['2025-05-22_1_MBL015', '2025-05-20_1_MBL015', '2025-05-16_1_MBL015', '2025-05-14_1_MBL015']\n",
    "# specific_expRefs = ['2025-05-20_1_MBL015']\n",
    "# Filter the recording list to include only the specified sessions\n",
    "info.recordingList = info.recordingList[info.recordingList['sessionName'].isin(specific_expRefs)].reset_index(drop=True)\n",
    "info.recordingList"
   ]
  },
  {
   "cell_type": "code",
   "execution_count": null,
   "metadata": {},
   "outputs": [],
   "source": [
    "# Plot combined psychometric\n",
    "pfun.plot_combined_psychometric(\n",
    "    info=info,\n",
    "    save_path=None  # Will use default path if None\n",
    ")\n",
    "\n",
    "# Plot combined response time\n",
    "pfun.plot_combined_response_time(\n",
    "    info=info,\n",
    "    analysis_path=analysis_path,\n",
    "    save_path=None  # Will use default path if None\n",
    ")"
   ]
  },
  {
   "cell_type": "code",
   "execution_count": null,
   "metadata": {},
   "outputs": [],
   "source": [
    "# plot neural activity across sessions\n",
    "# analysis_params = ['ipsi_recside', 'contra_recside']\n",
    "analysis_params = ['ipsi_bias', 'contra_bias']\n",
    "# Only responsive neurons, z-scored data\n",
    "pfun.plot_combined_neural_activity(info, analysis_params, duration=[3], zscoreRun=True, use_responsive_only=True)\n",
    "\n",
    "# All neurons, z-scored data\n",
    "pfun.plot_combined_neural_activity(info, analysis_params, duration=[3], zscoreRun=True, use_responsive_only=False)"
   ]
  },
  {
   "cell_type": "code",
   "execution_count": null,
   "metadata": {},
   "outputs": [],
   "source": [
    "# Plot combined dff mean by contrast\n",
    "use_responsive_only = True  # Change to False to use all neurons\n",
    "zscoreRun = True  # Change to False to use raw data\n",
    "\n",
    "# Call the function\n",
    "pfun.plot_combined_dff_mean_by_contrast(\n",
    "    info=info,\n",
    "    zscoreRun=zscoreRun,\n",
    "    use_responsive_only=use_responsive_only,\n",
    "    save_path=None  # Will use default path if None\n",
    ")"
   ]
  }
 ],
 "metadata": {
  "kernelspec": {
   "display_name": "sideBias",
   "language": "python",
   "name": "python3"
  },
  "language_info": {
   "codemirror_mode": {
    "name": "ipython",
    "version": 3
   },
   "file_extension": ".py",
   "mimetype": "text/x-python",
   "name": "python",
   "nbconvert_exporter": "python",
   "pygments_lexer": "ipython3",
   "version": "3.9.22"
  },
  "orig_nbformat": 4
 },
 "nbformat": 4,
 "nbformat_minor": 2
}
