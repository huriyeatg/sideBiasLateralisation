{
 "cells": [
  {
   "cell_type": "code",
   "execution_count": 6,
   "metadata": {},
   "outputs": [
    {
     "name": "stdout",
     "output_type": "stream",
     "text": [
      "Takes <30s. However, it might take >1 mins or so if network is busy...\n",
      "Computer: Candela Windows\n"
     ]
    },
    {
     "name": "stderr",
     "output_type": "stream",
     "text": [
      "c:\\Users\\Lak Lab\\Documents\\Github\\sideBiasLateralisation\\main_funcs.py:148: FutureWarning: Setting an item of incompatible dtype is deprecated and will raise an error in a future version of pandas. Value 'C:/Users/Lak Lab/Documents/Github/sideBiasLateralisation\\analysis\\2023-05-31_OFZ011_1\\' has dtype incompatible with float64, please explicitly cast to a compatible dtype first.\n",
      "  self.recordingList.loc[ind,'analysispathname'] = analysispathname +'\\\\'\n"
     ]
    },
    {
     "name": "stdout",
     "output_type": "stream",
     "text": [
      "Total Session: 58\n",
      "Matlab engine is set correctly.\n"
     ]
    }
   ],
   "source": [
    "%reload_ext autoreload\n",
    "%autoreload 2\n",
    "\n",
    "#make data file\n",
    "print( \"Takes <30s. However, it might take >1 mins or so if network is busy...\")\n",
    "import glob\n",
    "import os\n",
    "import pandas as pd\n",
    "from datetime import datetime\n",
    "import numpy as np\n",
    "import main_funcs as mfun\n",
    "import utils_funcs as utils # utils is from Vape - catcher file: \n",
    "import matplotlib.pyplot as plt\n",
    "import pickle\n",
    "\n",
    "\n",
    "\n",
    "# Get the list of recordings\n",
    "info = mfun.analysis()\n",
    "# display the detected session\n",
    "print( \"Total Session: \" +  str(info.recordingList .shape[0]))\n",
    "#info.recordingList.head()\n",
    "\n",
    "# set matlab API\n",
    "import matlab.engine\n",
    "eng = matlab.engine.start_matlab()\n",
    "print('Matlab engine is set correctly.')\n",
    "\n",
    "# Filter for a particular expRef from the info list (Antara)\n",
    "specific_expRef = '2023-05-31_1_OFZ011'\n",
    "\n",
    "# Recreate info object with the specific expRef\n",
    "info.recordingList = info.recordingList[info.recordingList['sessionName'] == specific_expRef].reset_index(drop=True)\n"
   ]
  },
  {
   "cell_type": "code",
   "execution_count": 20,
   "metadata": {},
   "outputs": [
    {
     "data": {
      "text/html": [
       "<div>\n",
       "<style scoped>\n",
       "    .dataframe tbody tr th:only-of-type {\n",
       "        vertical-align: middle;\n",
       "    }\n",
       "\n",
       "    .dataframe tbody tr th {\n",
       "        vertical-align: top;\n",
       "    }\n",
       "\n",
       "    .dataframe thead th {\n",
       "        text-align: right;\n",
       "    }\n",
       "</style>\n",
       "<table border=\"1\" class=\"dataframe\">\n",
       "  <thead>\n",
       "    <tr style=\"text-align: right;\">\n",
       "      <th></th>\n",
       "      <th>animalID</th>\n",
       "      <th>recordingDate</th>\n",
       "      <th>recordingID</th>\n",
       "      <th>sessionName</th>\n",
       "      <th>learningData</th>\n",
       "      <th>twoP</th>\n",
       "      <th>ROI</th>\n",
       "      <th>path</th>\n",
       "      <th>sessionNameWithPath</th>\n",
       "      <th>analysispathname</th>\n",
       "      <th>filepathname</th>\n",
       "      <th>eventTimesExtracted</th>\n",
       "    </tr>\n",
       "  </thead>\n",
       "  <tbody>\n",
       "    <tr>\n",
       "      <th>0</th>\n",
       "      <td>OFZ011</td>\n",
       "      <td>2023-05-31</td>\n",
       "      <td>1</td>\n",
       "      <td>2023-05-31_1_OFZ011</td>\n",
       "      <td>True</td>\n",
       "      <td>True</td>\n",
       "      <td>0</td>\n",
       "      <td>Z:/OFZ011\\2023-05-31</td>\n",
       "      <td>Z:/OFZ011\\2023-05-31\\1\\2023-05-31_1_OFZ011_Blo...</td>\n",
       "      <td>C:/Users/Lak Lab/Documents/Github/sideBiasLate...</td>\n",
       "      <td>Z:/OFZ011\\2023-05-31\\1</td>\n",
       "      <td>0.0</td>\n",
       "    </tr>\n",
       "  </tbody>\n",
       "</table>\n",
       "</div>"
      ],
      "text/plain": [
       "  animalID recordingDate recordingID          sessionName  learningData  twoP  \\\n",
       "0   OFZ011    2023-05-31           1  2023-05-31_1_OFZ011          True  True   \n",
       "\n",
       "   ROI                  path  \\\n",
       "0    0  Z:/OFZ011\\2023-05-31   \n",
       "\n",
       "                                 sessionNameWithPath  \\\n",
       "0  Z:/OFZ011\\2023-05-31\\1\\2023-05-31_1_OFZ011_Blo...   \n",
       "\n",
       "                                    analysispathname            filepathname  \\\n",
       "0  C:/Users/Lak Lab/Documents/Github/sideBiasLate...  Z:/OFZ011\\2023-05-31\\1   \n",
       "\n",
       "   eventTimesExtracted  \n",
       "0                  0.0  "
      ]
     },
     "execution_count": 20,
     "metadata": {},
     "output_type": "execute_result"
    }
   ],
   "source": [
    "info.recordingList\n"
   ]
  },
  {
   "cell_type": "code",
   "execution_count": null,
   "metadata": {},
   "outputs": [],
   "source": [
    "# # to check the paq file details - change filenamePAQ\n",
    "# import paq2py as paq_reader\n",
    "# import utils_funcs as utils\n",
    "\n",
    "# filenamePAQ =  'Y:\\\\OFZ011\\\\2023-07-07\\\\TwoP\\\\2023-07-07_OFZ011_paq_001.paq'\n",
    "# savepathname = info.recordingList()\n",
    "# paq_data = paq_reader.paq_read( file_path=filenamePAQ, plot=True, save_path=savepathname) \n",
    "# frame_clock = utils.paq_data (paqData, 'reward', threshold_ttl=True, plot=False)"
   ]
  },
  {
   "cell_type": "code",
   "execution_count": null,
   "metadata": {},
   "outputs": [
    {
     "name": "stdout",
     "output_type": "stream",
     "text": [
      " Extracting time events--> Profile: Value2AFC_noTimeline  Session: 2023-05-31_1_OFZ011\n",
      "0 - FAILED: Extracting time events: 2023-05-31_1_OFZ011\n",
      "Behaviour trial data extraction completed: 0.0/1\n"
     ]
    }
   ],
   "source": [
    "# Check CSV files \n",
    "# checkOnly needs to be False to create new files with MATLAB GENERIC CODE: GetBehavData.mat\n",
    "checkOnly = False # Make false when there is more behaviour session\n",
    "alignSubtract = True\n",
    "#ind = 49\n",
    "for ind, recordingDate in enumerate(info.recordingList.recordingDate):\n",
    "#if ind ==49:\n",
    "    filenameCSV = info.recordingList.analysispathname[ind] + info.recordingList.sessionName[ind] + '_CorrectedeventTimes.csv'\n",
    "    e_filenameCSV = [f for f in glob.glob(filenameCSV)]\n",
    "    if len(e_filenameCSV)==1:\n",
    "        info.recordingList.loc[ind,'eventTimesExtracted']=1\n",
    "        info.recordingList.loc[ind,'eventTimesPath'] = filenameCSV\n",
    "    else:\n",
    "        if checkOnly:\n",
    "            info.recordingList.loc[ind,'eventTimesExtracted']=0\n",
    "            info.recordingList.loc[ind,'eventTimesPath'] = filenameCSV\n",
    "        else:\n",
    "            try:\n",
    "                filenameTimeline = [f for f in glob.glob(info.recordingList.filepathname[ind]+ '\\\\' + info.recordingList.sessionName[ind] + '_Timeline.mat')]\n",
    "                if  (len(filenameTimeline)>0):\n",
    "                    sessionProfile ='Value2AFC'\n",
    "                else:\n",
    "                    sessionProfile ='Value2AFC_noTimeline'\n",
    "                \n",
    "                # Get behaviour trial data from Block.mat file\n",
    "                print(' Extracting time events--> Profile: ' + sessionProfile  +'  Session: ' + info.recordingList.sessionName[ind])\n",
    "                data = eng.getBehavData(info.recordingList.sessionName[ind],sessionProfile)\n",
    "\n",
    "                # Apply correction based on the weights to match the eventTimes\n",
    "                if (alignSubtract) & (len(filenameTimeline)>0) & (info.recordingList.twoP[ind]==True): \n",
    "                    print(' Aligning time events: ' + info.recordingList.sessionName[ind])\n",
    "                    # Get weights to convert from probe to behavioural timebase\n",
    "                    twoPpath = info.recordingList.path[ind] + '\\\\TwoP'\n",
    "                    sessionName = info.recordingList.sessionName[ind]\n",
    "                    figsavepath = info.recordingList.analysispathname[ind]\n",
    "                    dataCorrected, variance = eng.applySubtractionCorrection (data, twoPpath ,sessionName, True, figsavepath, nargout=2)\n",
    "                    info.recordingList.loc[ind,'variance'] = variance\n",
    "\n",
    "                    # Apply correction to the signal\n",
    "                    data = dataCorrected\n",
    "                    \n",
    "                # Save the file\n",
    "                eng.writetable(data, filenameCSV, nargout=0)\n",
    "                info.recordingList.loc[ind,'eventTimesExtracted']=1\n",
    "            except:\n",
    "                print(str(ind) + ' - FAILED: Extracting time events: ' + info.recordingList.sessionName[ind])\n",
    "                info.recordingList.loc[ind,'eventTimesExtracted']=0\n",
    "\n",
    "# display the output\n",
    "print( \"Behaviour trial data extraction completed: \" + \n",
    "      str(info.recordingList.eventTimesExtracted.sum()) +\"/\" + str(info.recordingList.shape[0]))"
   ]
  },
  {
   "cell_type": "code",
   "execution_count": 18,
   "metadata": {},
   "outputs": [
    {
     "data": {
      "text/plain": [
       "0"
      ]
     },
     "execution_count": 18,
     "metadata": {},
     "output_type": "execute_result"
    }
   ],
   "source": [
    "len(filenameTimeline)"
   ]
  },
  {
   "cell_type": "code",
   "execution_count": null,
   "metadata": {},
   "outputs": [],
   "source": [
    "# Check Suite2p files\n",
    "# Run: suite2p_run.py to create files in suite2p enviroment. \n",
    "for ind, recordingDate in enumerate(info.recordingList.recordingDate):\n",
    "    filenameDFF = info.recordingList.analysispathname[ind] + 'imaging-data.pkl'\n",
    "    e_filenameDFF = [f for f in glob.glob(filenameDFF)]\n",
    "    if len(e_filenameDFF)>0:\n",
    "        info.recordingList.loc[ind,'imagingDataExtracted']=1\n",
    "        info.recordingList.loc[ind,'imagingDataPath'] = filenameDFF\n",
    "    else:\n",
    "        info.recordingList.loc[ind,'imagingDataExtracted']=0\n",
    "        info.recordingList.loc[ind,'imagingDataPath'] = filenameDFF\n",
    "\n",
    "# display the output\n",
    "print( \"Imaging data extraction completed: \" + \n",
    "      str(info.recordingList.imagingDataExtracted.sum()) +\"/\" + str(info.recordingList.shape[0]))"
   ]
  },
  {
   "cell_type": "code",
   "execution_count": null,
   "metadata": {},
   "outputs": [],
   "source": [
    "# Save info into the analysis folder\n",
    "filenameINFO = info.analysisPath + '\\\\infoForAnalysis.pkl'\n",
    "with open(filenameINFO, 'wb') as f:\n",
    "    pickle.dump(info, f)\n",
    "print('All should be done!!')\n",
    "\n",
    "# Save table as CSV\n",
    "recordingList = info.recordingList\n",
    "recordingList.to_csv( info.analysisPath +'\\\\recordingList.csv', index=False)"
   ]
  }
 ],
 "metadata": {
  "kernelspec": {
   "display_name": "sideBias",
   "language": "python",
   "name": "python3"
  },
  "language_info": {
   "codemirror_mode": {
    "name": "ipython",
    "version": 3
   },
   "file_extension": ".py",
   "mimetype": "text/x-python",
   "name": "python",
   "nbconvert_exporter": "python",
   "pygments_lexer": "ipython3",
   "version": "3.9.22"
  },
  "orig_nbformat": 4
 },
 "nbformat": 4,
 "nbformat_minor": 2
}
